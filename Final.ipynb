{
  "nbformat": 4,
  "nbformat_minor": 0,
  "metadata": {
    "colab": {
      "name": "Final",
      "provenance": [],
      "collapsed_sections": []
    },
    "kernelspec": {
      "display_name": "Python 3",
      "name": "python3"
    }
  },
  "cells": [
    {
      "cell_type": "code",
      "metadata": {
        "id": "hHsZD054ziCg",
        "colab": {
          "base_uri": "https://localhost:8080/"
        },
        "outputId": "ece9f703-a5c6-4921-c781-c01b2644f9fd"
      },
      "source": [
        "#fetching the datset from dropbox\n",
        "!wget https://www.dropbox.com/sh/h0alzt0hecb0qe7/AACIjw_MyPcnvCjy_arBO20Ra?dl=0"
      ],
      "execution_count": null,
      "outputs": [
        {
          "output_type": "stream",
          "text": [
            "--2021-01-12 06:53:55--  https://www.dropbox.com/sh/h0alzt0hecb0qe7/AACIjw_MyPcnvCjy_arBO20Ra?dl=0\n",
            "Resolving www.dropbox.com (www.dropbox.com)... 162.125.5.18, 2620:100:601d:18::a27d:512\n",
            "Connecting to www.dropbox.com (www.dropbox.com)|162.125.5.18|:443... connected.\n",
            "HTTP request sent, awaiting response... 301 Moved Permanently\n",
            "Location: /sh/raw/h0alzt0hecb0qe7/AACIjw_MyPcnvCjy_arBO20Ra [following]\n",
            "--2021-01-12 06:53:55--  https://www.dropbox.com/sh/raw/h0alzt0hecb0qe7/AACIjw_MyPcnvCjy_arBO20Ra\n",
            "Reusing existing connection to www.dropbox.com:443.\n",
            "HTTP request sent, awaiting response... 302 Found\n",
            "Location: https://uceed90a88cb6caa0c28c42c415f.dl.dropboxusercontent.com/zip_download_get/AqNYvhIey2SLaT-9vFHK-cbDvOLbgMQZguGQ4rCeT9c_AE6T2XuogdyIDT1JkKhVwIFsAOozlgQz_wI88EX6kgbtWImTgapoMfccN_VKQCBXIA [following]\n",
            "--2021-01-12 06:53:56--  https://uceed90a88cb6caa0c28c42c415f.dl.dropboxusercontent.com/zip_download_get/AqNYvhIey2SLaT-9vFHK-cbDvOLbgMQZguGQ4rCeT9c_AE6T2XuogdyIDT1JkKhVwIFsAOozlgQz_wI88EX6kgbtWImTgapoMfccN_VKQCBXIA\n",
            "Resolving uceed90a88cb6caa0c28c42c415f.dl.dropboxusercontent.com (uceed90a88cb6caa0c28c42c415f.dl.dropboxusercontent.com)... 162.125.5.15, 2620:100:601d:15::a27d:50f\n",
            "Connecting to uceed90a88cb6caa0c28c42c415f.dl.dropboxusercontent.com (uceed90a88cb6caa0c28c42c415f.dl.dropboxusercontent.com)|162.125.5.15|:443... connected.\n",
            "HTTP request sent, awaiting response... 200 OK\n",
            "Length: 61627868 (59M) [application/zip]\n",
            "Saving to: ‘AACIjw_MyPcnvCjy_arBO20Ra?dl=0’\n",
            "\n",
            "AACIjw_MyPcnvCjy_ar 100%[===================>]  58.77M   682KB/s    in 35s     \n",
            "\n",
            "2021-01-12 06:54:32 (1.67 MB/s) - ‘AACIjw_MyPcnvCjy_arBO20Ra?dl=0’ saved [61627868/61627868]\n",
            "\n"
          ],
          "name": "stdout"
        }
      ]
    },
    {
      "cell_type": "code",
      "metadata": {
        "id": "MYScKuk2zouS"
      },
      "source": [
        "#unzipping the dataset folder\n",
        "!unzip Ds"
      ],
      "execution_count": null,
      "outputs": []
    },
    {
      "cell_type": "code",
      "metadata": {
        "id": "cqL4c4ZAz9h8"
      },
      "source": [
        "TRAIN_PATH=\"Ds/train\""
      ],
      "execution_count": null,
      "outputs": []
    },
    {
      "cell_type": "code",
      "metadata": {
        "id": "wBPt6A070Etl"
      },
      "source": [
        "VAL_PATH=\"Ds/val\""
      ],
      "execution_count": null,
      "outputs": []
    },
    {
      "cell_type": "code",
      "metadata": {
        "id": "M1hfOd9_0JB7"
      },
      "source": [
        "import numpy as np\n",
        "import keras\n",
        "from keras.layers import *\n",
        "from keras.models import *\n",
        "from keras.preprocessing import image"
      ],
      "execution_count": null,
      "outputs": []
    },
    {
      "cell_type": "code",
      "metadata": {
        "id": "Y9s0GCGZ0Lnx"
      },
      "source": [
        "#model definition\n",
        "model = Sequential()\n",
        "model.add(Conv2D(32,kernel_size=(3,3),activation='relu', input_shape=(224,224,3)))\n",
        "model.add(Conv2D(64,(3,3), activation='relu'))\n",
        "model.add(MaxPooling2D(pool_size=(2,2)))\n",
        "model.add(Dropout(0.25))\n",
        "\n",
        "model.add(Conv2D(64,(3,3), activation='relu'))\n",
        "model.add(MaxPooling2D(pool_size=(2,2)))\n",
        "model.add(Dropout(0.25))\n",
        "\n",
        "model.add(Conv2D(128,(3,3), activation='relu'))\n",
        "model.add(MaxPooling2D(pool_size=(2,2)))\n",
        "model.add(Dropout(0.25))\n",
        "\n",
        "model.add(Flatten())\n",
        "model.add(Dense(64,activation='relu'))\n",
        "model.add(Dropout(0.5))\n",
        "model.add(Dense(1,activation='sigmoid'))\n",
        "\n",
        "model.compile(loss=keras.losses.binary_crossentropy, optimizer='adam',metrics=['accuracy'])\n",
        "\n",
        "#used to detect feature in very tiny areas of the image.Its gonna learn a hidden pattern.As you go deeper into the layered network,\n",
        "#the receptive feild of the CNN increases. So, the feature it extracts are quite a bigger part of the original picture.\n",
        "#(3x3) is the standard kernel size picked"
      ],
      "execution_count": null,
      "outputs": []
    },
    {
      "cell_type": "code",
      "metadata": {
        "id": "KwuaW7co0Od-",
        "colab": {
          "base_uri": "https://localhost:8080/"
        },
        "outputId": "cbcda551-6611-4162-d8ab-c3c80ae7236a"
      },
      "source": [
        "model.summary()"
      ],
      "execution_count": null,
      "outputs": [
        {
          "output_type": "stream",
          "text": [
            "Model: \"sequential\"\n",
            "_________________________________________________________________\n",
            "Layer (type)                 Output Shape              Param #   \n",
            "=================================================================\n",
            "conv2d (Conv2D)              (None, 222, 222, 32)      896       \n",
            "_________________________________________________________________\n",
            "conv2d_1 (Conv2D)            (None, 220, 220, 64)      18496     \n",
            "_________________________________________________________________\n",
            "max_pooling2d (MaxPooling2D) (None, 110, 110, 64)      0         \n",
            "_________________________________________________________________\n",
            "dropout (Dropout)            (None, 110, 110, 64)      0         \n",
            "_________________________________________________________________\n",
            "conv2d_2 (Conv2D)            (None, 108, 108, 64)      36928     \n",
            "_________________________________________________________________\n",
            "max_pooling2d_1 (MaxPooling2 (None, 54, 54, 64)        0         \n",
            "_________________________________________________________________\n",
            "dropout_1 (Dropout)          (None, 54, 54, 64)        0         \n",
            "_________________________________________________________________\n",
            "conv2d_3 (Conv2D)            (None, 52, 52, 128)       73856     \n",
            "_________________________________________________________________\n",
            "max_pooling2d_2 (MaxPooling2 (None, 26, 26, 128)       0         \n",
            "_________________________________________________________________\n",
            "dropout_2 (Dropout)          (None, 26, 26, 128)       0         \n",
            "_________________________________________________________________\n",
            "flatten (Flatten)            (None, 86528)             0         \n",
            "_________________________________________________________________\n",
            "dense (Dense)                (None, 64)                5537856   \n",
            "_________________________________________________________________\n",
            "dropout_3 (Dropout)          (None, 64)                0         \n",
            "_________________________________________________________________\n",
            "dense_1 (Dense)              (None, 1)                 65        \n",
            "=================================================================\n",
            "Total params: 5,668,097\n",
            "Trainable params: 5,668,097\n",
            "Non-trainable params: 0\n",
            "_________________________________________________________________\n"
          ],
          "name": "stdout"
        }
      ]
    },
    {
      "cell_type": "code",
      "metadata": {
        "id": "zvQDzCaU0Qa5"
      },
      "source": [
        "#Train from scratch\n",
        "#so we'll use the keras image data generator library to make the data ready for the mode\n",
        "train_datagen=image.ImageDataGenerator(\n",
        "    rescale=1./255,\n",
        "    shear_range=0.2,\n",
        "    zoom_range=0.2,\n",
        "    horizontal_flip=True,\n",
        ")\n",
        "test_dataset=image.ImageDataGenerator(rescale=1./255)"
      ],
      "execution_count": null,
      "outputs": []
    },
    {
      "cell_type": "code",
      "metadata": {
        "id": "Su_78sWr0TcA",
        "colab": {
          "base_uri": "https://localhost:8080/"
        },
        "outputId": "413ddd12-8189-4c90-d975-ac41a64f0861"
      },
      "source": [
        "#creating actual generator function\n",
        "train_generator=train_datagen.flow_from_directory(\n",
        "    'train',\n",
        "    target_size=(224,224),\n",
        "    batch_size=32,\n",
        "    class_mode='binary'\n",
        ")"
      ],
      "execution_count": null,
      "outputs": [
        {
          "output_type": "stream",
          "text": [
            "Found 652 images belonging to 2 classes.\n"
          ],
          "name": "stdout"
        }
      ]
    },
    {
      "cell_type": "code",
      "metadata": {
        "id": "tb4oo8v60VdA",
        "colab": {
          "base_uri": "https://localhost:8080/"
        },
        "outputId": "3109cb8a-d922-4e40-96e2-ca8b6d44c8c3"
      },
      "source": [
        "train_generator.class_indices"
      ],
      "execution_count": null,
      "outputs": [
        {
          "output_type": "execute_result",
          "data": {
            "text/plain": [
              "{'normal': 0, 'pf': 1}"
            ]
          },
          "metadata": {
            "tags": []
          },
          "execution_count": 10
        }
      ]
    },
    {
      "cell_type": "code",
      "metadata": {
        "id": "3CmFzdAo0bF2",
        "colab": {
          "base_uri": "https://localhost:8080/"
        },
        "outputId": "db80ea75-339a-4d3c-ddab-71d851ffa3da"
      },
      "source": [
        "#creating the validation function\n",
        "validation_generator=test_dataset.flow_from_directory(\n",
        "    'val',\n",
        "    target_size=(224,224),\n",
        "    batch_size=32,\n",
        "    class_mode='binary'\n",
        ")"
      ],
      "execution_count": null,
      "outputs": [
        {
          "output_type": "stream",
          "text": [
            "Found 164 images belonging to 2 classes.\n"
          ],
          "name": "stdout"
        }
      ]
    },
    {
      "cell_type": "code",
      "metadata": {
        "id": "vUbXwb540deH",
        "colab": {
          "base_uri": "https://localhost:8080/"
        },
        "outputId": "748ea9c4-31ca-4dea-c57b-362c7ab5c07b"
      },
      "source": [
        "hist = model.fit_generator(\n",
        "    train_generator,\n",
        "    steps_per_epoch=8,\n",
        "    epochs=20,\n",
        "    validation_data = validation_generator,\n",
        "    validation_steps=2\n",
        ")"
      ],
      "execution_count": null,
      "outputs": [
        {
          "output_type": "stream",
          "text": [
            "/usr/local/lib/python3.6/dist-packages/tensorflow/python/keras/engine/training.py:1844: UserWarning: `Model.fit_generator` is deprecated and will be removed in a future version. Please use `Model.fit`, which supports generators.\n",
            "  warnings.warn('`Model.fit_generator` is deprecated and '\n"
          ],
          "name": "stderr"
        },
        {
          "output_type": "stream",
          "text": [
            "Epoch 1/20\n",
            "8/8 [==============================] - 72s 9s/step - loss: 1.0910 - accuracy: 0.5735 - val_loss: 0.6267 - val_accuracy: 0.9844\n",
            "Epoch 2/20\n",
            "8/8 [==============================] - 70s 9s/step - loss: 0.3515 - accuracy: 0.8735 - val_loss: 0.1137 - val_accuracy: 1.0000\n",
            "Epoch 3/20\n",
            "8/8 [==============================] - 74s 9s/step - loss: 0.0217 - accuracy: 0.9936 - val_loss: 0.0028 - val_accuracy: 1.0000\n",
            "Epoch 4/20\n",
            "8/8 [==============================] - 77s 10s/step - loss: 0.0095 - accuracy: 0.9953 - val_loss: 0.2271 - val_accuracy: 0.8438\n",
            "Epoch 5/20\n",
            "8/8 [==============================] - 74s 9s/step - loss: 0.0177 - accuracy: 0.9928 - val_loss: 8.4253e-04 - val_accuracy: 1.0000\n",
            "Epoch 6/20\n",
            "8/8 [==============================] - 75s 9s/step - loss: 0.0949 - accuracy: 0.9901 - val_loss: 0.0056 - val_accuracy: 1.0000\n",
            "Epoch 7/20\n",
            "8/8 [==============================] - 78s 10s/step - loss: 0.0021 - accuracy: 1.0000 - val_loss: 8.0217e-05 - val_accuracy: 1.0000\n",
            "Epoch 8/20\n",
            "8/8 [==============================] - 77s 10s/step - loss: 0.0098 - accuracy: 0.9981 - val_loss: 3.3076e-06 - val_accuracy: 1.0000\n",
            "Epoch 9/20\n",
            "8/8 [==============================] - 75s 9s/step - loss: 0.0026 - accuracy: 1.0000 - val_loss: 1.9734e-07 - val_accuracy: 1.0000\n",
            "Epoch 10/20\n",
            "8/8 [==============================] - 71s 9s/step - loss: 0.0040 - accuracy: 0.9985 - val_loss: 6.5953e-06 - val_accuracy: 1.0000\n",
            "Epoch 11/20\n",
            "8/8 [==============================] - 76s 9s/step - loss: 0.0014 - accuracy: 1.0000 - val_loss: 0.0050 - val_accuracy: 1.0000\n",
            "Epoch 12/20\n",
            "8/8 [==============================] - 69s 9s/step - loss: 0.0042 - accuracy: 1.0000 - val_loss: 0.0013 - val_accuracy: 1.0000\n",
            "Epoch 13/20\n",
            "8/8 [==============================] - 74s 9s/step - loss: 0.0015 - accuracy: 1.0000 - val_loss: 8.3102e-04 - val_accuracy: 1.0000\n",
            "Epoch 14/20\n",
            "8/8 [==============================] - 75s 9s/step - loss: 0.0023 - accuracy: 1.0000 - val_loss: 9.2019e-05 - val_accuracy: 1.0000\n",
            "Epoch 15/20\n",
            "8/8 [==============================] - 74s 9s/step - loss: 6.4001e-04 - accuracy: 1.0000 - val_loss: 4.1891e-06 - val_accuracy: 1.0000\n",
            "Epoch 16/20\n",
            "8/8 [==============================] - 71s 9s/step - loss: 1.8124e-04 - accuracy: 1.0000 - val_loss: 4.5750e-07 - val_accuracy: 1.0000\n",
            "Epoch 17/20\n",
            "8/8 [==============================] - 75s 9s/step - loss: 7.3940e-05 - accuracy: 1.0000 - val_loss: 2.1264e-07 - val_accuracy: 1.0000\n",
            "Epoch 18/20\n",
            "8/8 [==============================] - 70s 9s/step - loss: 0.0018 - accuracy: 1.0000 - val_loss: 3.4256e-06 - val_accuracy: 1.0000\n",
            "Epoch 19/20\n",
            "8/8 [==============================] - 70s 9s/step - loss: 4.5072e-04 - accuracy: 1.0000 - val_loss: 1.0539e-04 - val_accuracy: 1.0000\n",
            "Epoch 20/20\n",
            "8/8 [==============================] - 74s 9s/step - loss: 4.7284e-04 - accuracy: 1.0000 - val_loss: 1.6999e-04 - val_accuracy: 1.0000\n"
          ],
          "name": "stdout"
        }
      ]
    },
    {
      "cell_type": "code",
      "metadata": {
        "id": "B3eJ7lvM0hmm",
        "colab": {
          "base_uri": "https://localhost:8080/"
        },
        "outputId": "da37cb37-c040-4953-e3be-c5ded702c025"
      },
      "source": [
        "model.evaluate_generator(train_generator)"
      ],
      "execution_count": null,
      "outputs": [
        {
          "output_type": "stream",
          "text": [
            "/usr/local/lib/python3.6/dist-packages/tensorflow/python/keras/engine/training.py:1877: UserWarning: `Model.evaluate_generator` is deprecated and will be removed in a future version. Please use `Model.evaluate`, which supports generators.\n",
            "  warnings.warn('`Model.evaluate_generator` is deprecated and '\n"
          ],
          "name": "stderr"
        },
        {
          "output_type": "execute_result",
          "data": {
            "text/plain": [
              "[9.299896191805601e-05, 1.0]"
            ]
          },
          "metadata": {
            "tags": []
          },
          "execution_count": 14
        }
      ]
    },
    {
      "cell_type": "code",
      "metadata": {
        "id": "BI-AySYI5yb8",
        "colab": {
          "base_uri": "https://localhost:8080/"
        },
        "outputId": "1aee3f7a-6f30-427f-a9ce-abf7dd99a816"
      },
      "source": [
        "model.evaluate_generator(validation_generator)"
      ],
      "execution_count": null,
      "outputs": [
        {
          "output_type": "stream",
          "text": [
            "/usr/local/lib/python3.6/dist-packages/tensorflow/python/keras/engine/training.py:1877: UserWarning: `Model.evaluate_generator` is deprecated and will be removed in a future version. Please use `Model.evaluate`, which supports generators.\n",
            "  warnings.warn('`Model.evaluate_generator` is deprecated and '\n"
          ],
          "name": "stderr"
        },
        {
          "output_type": "execute_result",
          "data": {
            "text/plain": [
              "[0.00016733027587179095, 1.0]"
            ]
          },
          "metadata": {
            "tags": []
          },
          "execution_count": 15
        }
      ]
    },
    {
      "cell_type": "code",
      "metadata": {
        "id": "DnXwlWPi5-6y",
        "colab": {
          "base_uri": "https://localhost:8080/"
        },
        "outputId": "50a7f905-6d84-4d23-ee86-8a5d8feb0bf7"
      },
      "source": [
        "# Save the entire model as a SavedModel.\n",
        "!mkdir -p saved_model\n",
        "model.save('saved_model/my_model') "
      ],
      "execution_count": null,
      "outputs": [
        {
          "output_type": "stream",
          "text": [
            "INFO:tensorflow:Assets written to: saved_model/my_model/assets\n"
          ],
          "name": "stdout"
        }
      ]
    },
    {
      "cell_type": "code",
      "metadata": {
        "id": "dG6Y9Bto6GD3"
      },
      "source": [
        "import os"
      ],
      "execution_count": null,
      "outputs": []
    },
    {
      "cell_type": "code",
      "metadata": {
        "id": "UaiFox9f6K_R",
        "colab": {
          "base_uri": "https://localhost:8080/"
        },
        "outputId": "526286d7-8050-4017-ca5f-06fac1858dcd"
      },
      "source": [
        "train_generator.class_indices"
      ],
      "execution_count": null,
      "outputs": [
        {
          "output_type": "execute_result",
          "data": {
            "text/plain": [
              "{'normal': 0, 'pf': 1}"
            ]
          },
          "metadata": {
            "tags": []
          },
          "execution_count": 18
        }
      ]
    },
    {
      "cell_type": "code",
      "metadata": {
        "id": "KK2PjPo_6NUA"
      },
      "source": [
        "y_actual=[]\n",
        "y_test=[]"
      ],
      "execution_count": null,
      "outputs": []
    },
    {
      "cell_type": "code",
      "metadata": {
        "id": "aTJ96w-h6P4i",
        "colab": {
          "base_uri": "https://localhost:8080/",
          "height": 229
        },
        "outputId": "c003b298-1c49-4f42-a709-e98b69060176"
      },
      "source": [
        "for i in os.listdir(\"./val/normal/\"):\n",
        "  img=image.load_img(\"./val/normal/\"+i, target_size=(224,224))\n",
        "  img=image.img_to_array(img)\n",
        "  img=np.expand_dims(img,axis=0)\n",
        "  p=model.predict_classes(img)\n",
        "  y_test.append(p[0,0])\n",
        "  y_actual.append(0)"
      ],
      "execution_count": null,
      "outputs": [
        {
          "output_type": "error",
          "ename": "NameError",
          "evalue": "ignored",
          "traceback": [
            "\u001b[0;31m---------------------------------------------------------------------------\u001b[0m",
            "\u001b[0;31mNameError\u001b[0m                                 Traceback (most recent call last)",
            "\u001b[0;32m<ipython-input-3-045db359df52>\u001b[0m in \u001b[0;36m<module>\u001b[0;34m()\u001b[0m\n\u001b[0;32m----> 1\u001b[0;31m \u001b[0;32mfor\u001b[0m \u001b[0mi\u001b[0m \u001b[0;32min\u001b[0m \u001b[0mos\u001b[0m\u001b[0;34m.\u001b[0m\u001b[0mlistdir\u001b[0m\u001b[0;34m(\u001b[0m\u001b[0;34m\"./val/normal/\"\u001b[0m\u001b[0;34m)\u001b[0m\u001b[0;34m:\u001b[0m\u001b[0;34m\u001b[0m\u001b[0;34m\u001b[0m\u001b[0m\n\u001b[0m\u001b[1;32m      2\u001b[0m   \u001b[0mimg\u001b[0m\u001b[0;34m=\u001b[0m\u001b[0mimage\u001b[0m\u001b[0;34m.\u001b[0m\u001b[0mload_img\u001b[0m\u001b[0;34m(\u001b[0m\u001b[0;34m\"./val/normal/\"\u001b[0m\u001b[0;34m+\u001b[0m\u001b[0mi\u001b[0m\u001b[0;34m,\u001b[0m \u001b[0mtarget_size\u001b[0m\u001b[0;34m=\u001b[0m\u001b[0;34m(\u001b[0m\u001b[0;36m224\u001b[0m\u001b[0;34m,\u001b[0m\u001b[0;36m224\u001b[0m\u001b[0;34m)\u001b[0m\u001b[0;34m)\u001b[0m\u001b[0;34m\u001b[0m\u001b[0;34m\u001b[0m\u001b[0m\n\u001b[1;32m      3\u001b[0m   \u001b[0mimg\u001b[0m\u001b[0;34m=\u001b[0m\u001b[0mimage\u001b[0m\u001b[0;34m.\u001b[0m\u001b[0mimg_to_array\u001b[0m\u001b[0;34m(\u001b[0m\u001b[0mimg\u001b[0m\u001b[0;34m)\u001b[0m\u001b[0;34m\u001b[0m\u001b[0;34m\u001b[0m\u001b[0m\n\u001b[1;32m      4\u001b[0m   \u001b[0mimg\u001b[0m\u001b[0;34m=\u001b[0m\u001b[0mnp\u001b[0m\u001b[0;34m.\u001b[0m\u001b[0mexpand_dims\u001b[0m\u001b[0;34m(\u001b[0m\u001b[0mimg\u001b[0m\u001b[0;34m,\u001b[0m\u001b[0maxis\u001b[0m\u001b[0;34m=\u001b[0m\u001b[0;36m0\u001b[0m\u001b[0;34m)\u001b[0m\u001b[0;34m\u001b[0m\u001b[0;34m\u001b[0m\u001b[0m\n\u001b[1;32m      5\u001b[0m   \u001b[0mp\u001b[0m\u001b[0;34m=\u001b[0m\u001b[0mmodel\u001b[0m\u001b[0;34m.\u001b[0m\u001b[0mpredict_classes\u001b[0m\u001b[0;34m(\u001b[0m\u001b[0mimg\u001b[0m\u001b[0;34m)\u001b[0m\u001b[0;34m\u001b[0m\u001b[0;34m\u001b[0m\u001b[0m\n",
            "\u001b[0;31mNameError\u001b[0m: name 'os' is not defined"
          ]
        }
      ]
    },
    {
      "cell_type": "code",
      "metadata": {
        "id": "VSLNttUM6TdV",
        "colab": {
          "base_uri": "https://localhost:8080/"
        },
        "outputId": "77cced9f-a6f7-497a-8e96-b842b4ec18b2"
      },
      "source": [
        "for i in os.listdir(\"./val/pf/\"):\n",
        "  img=image.load_img(\"./val/pf/\"+i, target_size=(224,224))\n",
        "  img=image.img_to_array(img)\n",
        "  img=np.expand_dims(img,axis=0)\n",
        "  p=model.predict_classes(img)\n",
        "  y_test.append(p[0,0])\n",
        "  y_actual.append(1)"
      ],
      "execution_count": null,
      "outputs": [
        {
          "output_type": "stream",
          "text": [
            "/usr/local/lib/python3.6/dist-packages/tensorflow/python/keras/engine/sequential.py:450: UserWarning: `model.predict_classes()` is deprecated and will be removed after 2021-01-01. Please use instead:* `np.argmax(model.predict(x), axis=-1)`,   if your model does multi-class classification   (e.g. if it uses a `softmax` last-layer activation).* `(model.predict(x) > 0.5).astype(\"int32\")`,   if your model does binary classification   (e.g. if it uses a `sigmoid` last-layer activation).\n",
            "  warnings.warn('`model.predict_classes()` is deprecated and '\n"
          ],
          "name": "stderr"
        }
      ]
    },
    {
      "cell_type": "code",
      "metadata": {
        "id": "vtjVOxff6hJK"
      },
      "source": [
        "y_actual=np.array(y_actual)\n",
        "y_test=np.array(y_test)"
      ],
      "execution_count": null,
      "outputs": []
    },
    {
      "cell_type": "code",
      "metadata": {
        "id": "5Rluc2hg6lQR"
      },
      "source": [
        "from sklearn.metrics import confusion_matrix"
      ],
      "execution_count": null,
      "outputs": []
    },
    {
      "cell_type": "code",
      "metadata": {
        "id": "IPMpOJtg6ngt"
      },
      "source": [
        "cm=confusion_matrix(y_actual, y_test)"
      ],
      "execution_count": null,
      "outputs": []
    },
    {
      "cell_type": "code",
      "metadata": {
        "id": "9k6jJacA6qBI"
      },
      "source": [
        "import seaborn as sns"
      ],
      "execution_count": null,
      "outputs": []
    },
    {
      "cell_type": "code",
      "metadata": {
        "id": "jo7dFZ036r1_",
        "colab": {
          "base_uri": "https://localhost:8080/",
          "height": 282
        },
        "outputId": "053ca37b-2629-4d09-ef81-9b57406089cc"
      },
      "source": [
        "sns.heatmap(cm, cmap='plasma',annot=True)"
      ],
      "execution_count": null,
      "outputs": [
        {
          "output_type": "execute_result",
          "data": {
            "text/plain": [
              "<matplotlib.axes._subplots.AxesSubplot at 0x7fab6e95b320>"
            ]
          },
          "metadata": {
            "tags": []
          },
          "execution_count": 26
        },
        {
          "output_type": "display_data",
          "data": {
            "image/png": "[encoded data removed]",
            "text/plain": [
              "<Figure size 432x288 with 2 Axes>"
            ]
          },
          "metadata": {
            "tags": [],
            "needs_background": "light"
          }
        }
      ]
    },
    {
      "cell_type": "code",
      "metadata": {
        "id": "olYu6SMH6t16"
      },
      "source": [
        "#0->normal, 1->pf\n",
        "# TP, FN\n",
        "# FP,TN"
      ],
      "execution_count": null,
      "outputs": []
    },
    {
      "cell_type": "code",
      "metadata": {
        "colab": {
          "base_uri": "https://localhost:8080/",
          "height": 573
        },
        "id": "EyKdeOfhTg4l",
        "outputId": "15348466-d446-4307-cc04-df7d87927911"
      },
      "source": [
        "import matplotlib.pyplot as plt\n",
        "# accuracy plot \n",
        "plt.plot(hist.history['accuracy'])\n",
        "plt.plot(hist.history['val_accuracy'])\n",
        "plt.title('model accuracy')\n",
        "plt.ylabel('accuracy')\n",
        "plt.xlabel('epoch')\n",
        "plt.legend(['train', 'val'], loc='upper left')\n",
        "plt.show()\n",
        "\n",
        "# loss plot\n",
        "plt.plot(hist.history['loss'])\n",
        "plt.plot(hist.history['val_loss'])\n",
        "plt.title('model loss')\n",
        "plt.ylabel('loss')\n",
        "plt.xlabel('epoch')\n",
        "plt.legend(['train', 'val'], loc='upper left')\n",
        "plt.show()"
      ],
      "execution_count": null,
      "outputs": [
        {
          "output_type": "display_data",
          "data": {
            "image/png": "[encoded data removed]",
            "text/plain": [
              "<Figure size 432x288 with 1 Axes>"
            ]
          },
          "metadata": {
            "tags": [],
            "needs_background": "light"
          }
        },
        {
          "output_type": "display_data",
          "data": {
            "image/png": "[encoded data removed]",
            "text/plain": [
              "<Figure size 432x288 with 1 Axes>"
            ]
          },
          "metadata": {
            "tags": [],
            "needs_background": "light"
          }
        }
      ]
    },
    {
      "cell_type": "code",
      "metadata": {
        "id": "LsmkWklJXemo"
      },
      "source": [
        ""
      ],
      "execution_count": null,
      "outputs": []
    }
  ]
}